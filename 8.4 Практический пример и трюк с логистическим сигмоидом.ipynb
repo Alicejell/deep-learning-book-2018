{
 "cells": [
  {
   "cell_type": "code",
   "execution_count": 1,
   "metadata": {},
   "outputs": [],
   "source": [
    "import tensorflow as tf\n",
    "import numpy as np"
   ]
  },
  {
   "cell_type": "code",
   "execution_count": 2,
   "metadata": {},
   "outputs": [],
   "source": [
    "gen_weights = dict()\n",
    "gen_weights['w1'] = tf.Variable(tf.random_normal([1,5]))\n",
    "gen_weights['b1'] = tf.Variable(tf.random_normal([5]))\n",
    "gen_weights['w2'] = tf.Variable(tf.random_normal([5,1]))\n",
    "gen_weights['b2'] = tf.Variable(tf.random_normal([1]))\n",
    "\n",
    "disc_weights = dict()\n",
    "disc_weights['w1'] = tf.Variable(tf.random_normal([1,10]))\n",
    "disc_weights['b1'] = tf.Variable(tf.random_normal([10]))\n",
    "disc_weights['w2'] = tf.Variable(tf.random_normal([10,10]))\n",
    "disc_weights['b2'] = tf.Variable(tf.random_normal([10]))\n",
    "disc_weights['w3'] = tf.Variable(tf.random_normal([10,1]))\n",
    "disc_weights['b3'] = tf.Variable(tf.random_normal([1]))"
   ]
  },
  {
   "cell_type": "code",
   "execution_count": 3,
   "metadata": {},
   "outputs": [],
   "source": [
    "z_p = tf.placeholder('float',[None,1])\n",
    "x_d = tf.placeholder('float',[None,1])\n",
    "g_h = tf.nn.softplus(tf.add(tf.matmul(z_p,gen_weights['w1']),gen_weights['b1']))\n",
    "x_g = tf.add(tf.matmul(g_h,gen_weights['w2']),gen_weights['b2'])"
   ]
  },
  {
   "cell_type": "code",
   "execution_count": 4,
   "metadata": {},
   "outputs": [],
   "source": [
    "def discriminator(x):\n",
    "    d_h1 = tf.nn.tanh(tf.add(tf.matmul(x,disc_weights['w1']),disc_weights['b1']))\n",
    "    d_h2 = tf.nn.tanh(tf.add(tf.matmul(d_h1,disc_weights['w2']),disc_weights['b2']))\n",
    "    score = tf.nn.sigmoid(tf.add(tf.matmul(d_h2,disc_weights['w3']),disc_weights['b3']))\n",
    "    return score"
   ]
  },
  {
   "cell_type": "code",
   "execution_count": 5,
   "metadata": {},
   "outputs": [],
   "source": [
    "x_data_score = discriminator(x_d)\n",
    "x_gen_score = discriminator(x_g)"
   ]
  },
  {
   "cell_type": "code",
   "execution_count": 6,
   "metadata": {},
   "outputs": [],
   "source": [
    "D_cost = -tf.reduce_mean(tf.log(x_data_score) + tf.log(1.0 - x_gen_score))\n",
    "G_cost = tf.reduce_mean(tf.log(1.0 - x_gen_score))"
   ]
  },
  {
   "cell_type": "code",
   "execution_count": 7,
   "metadata": {},
   "outputs": [],
   "source": [
    "batch_size = 64\n",
    "updates = 40000\n",
    "learning_rate = 0.01\n",
    "prior_mu = -2.5\n",
    "prior_std = 0.5\n",
    "noise_range = 5"
   ]
  },
  {
   "cell_type": "code",
   "execution_count": 11,
   "metadata": {},
   "outputs": [],
   "source": [
    "optimizer = tf.train.GradientDescentOptimizer(learning_rate)\n",
    "D_optimizer = optimizer.minimize(D_cost, var_list=list(disc_weights.values())) #в книге без list\n",
    "G_optimizer = optimizer.minimize(G_cost, var_list=list(gen_weights.values()))"
   ]
  },
  {
   "cell_type": "code",
   "execution_count": 12,
   "metadata": {},
   "outputs": [],
   "source": [
    "def sample_z(size=batch_size):\n",
    "    return np.random.uniform(-noise_range,noise_range,size=[size,1])\n",
    "def sample_x(size=batch_size,mu=prior_mu,std=prior_std):\n",
    "    return np.random.normal(mu,std,size=[size,1])"
   ]
  },
  {
   "cell_type": "code",
   "execution_count": 16,
   "metadata": {},
   "outputs": [],
   "source": [
    "init = tf.global_variables_initializer() #initialize_global_variables() -> global_variables_initializer()\n",
    "sess = tf.Session()\n",
    "sess.run(init)"
   ]
  },
  {
   "cell_type": "code",
   "execution_count": 17,
   "metadata": {},
   "outputs": [],
   "source": [
    "for i in range(updates):\n",
    "    z_batch = sample_z()\n",
    "    x_batch = sample_x()\n",
    "    sess.run(D_optimizer,feed_dict={z_p:z_batch,x_d:x_batch})\n",
    "    z_batch = sample_z()\n",
    "    sess.run(G_optimizer,feed_dict={z_p:z_batch})"
   ]
  },
  {
   "cell_type": "code",
   "execution_count": null,
   "metadata": {},
   "outputs": [],
   "source": []
  },
  {
   "cell_type": "code",
   "execution_count": null,
   "metadata": {},
   "outputs": [],
   "source": []
  },
  {
   "cell_type": "code",
   "execution_count": null,
   "metadata": {},
   "outputs": [],
   "source": []
  }
 ],
 "metadata": {
  "kernelspec": {
   "display_name": "Python 3",
   "language": "python",
   "name": "python3"
  },
  "language_info": {
   "codemirror_mode": {
    "name": "ipython",
    "version": 3
   },
   "file_extension": ".py",
   "mimetype": "text/x-python",
   "name": "python",
   "nbconvert_exporter": "python",
   "pygments_lexer": "ipython3",
   "version": "3.5.2"
  }
 },
 "nbformat": 4,
 "nbformat_minor": 2
}
